{
 "cells": [
  {
   "cell_type": "code",
   "execution_count": 2,
   "metadata": {},
   "outputs": [],
   "source": [
    "import numpy as np\n",
    "import pandas as pd\n",
    "import matplotlib.pyplot as plt\n",
    "import plotly.express as px\n",
    "import sklearn\n",
    "from copy import deepcopy\n",
    "\n",
    "df = pd.read_csv('pricerunner_aggregate.csv')\n",
    "\n",
    "df.columns = ['ID', 'Title', 'VendorID', 'ClusterID', 'ClusterLabel', 'CategoryID', 'CategoryLabel']\n",
    "\n",
    "df.drop(['ID','Title','VendorID','ClusterID','CategoryID','CategoryLabel'],axis=1,inplace=True)"
   ]
  },
  {
   "cell_type": "code",
   "execution_count": 3,
   "metadata": {},
   "outputs": [],
   "source": [
    "path = 'english-adjectives.txt'\n",
    "file = open(path, 'r')\n",
    "\n",
    "adjectives = set()\n",
    "\n",
    "for line in file:\n",
    "    adjectives.add(line[:-1])\n",
    "\n",
    "file.close()\n",
    "\n",
    "adjectives.add('stainless')\n",
    "adjectives.add('integrated')\n",
    "adjectives.remove('sharp')"
   ]
  },
  {
   "cell_type": "code",
   "execution_count": 4,
   "metadata": {},
   "outputs": [],
   "source": [
    "def eliminate_adjectives(df2, column_name):\n",
    "    df = deepcopy(df2)\n",
    "\n",
    "    def remove_adjectives(row):\n",
    "        words_list = row[column_name].split()\n",
    "        words_list2 = [word for word in words_list if word.lower() not in adjectives]\n",
    "        if len(words_list2) == 0:\n",
    "            return 'null'\n",
    "        else:\n",
    "            return ' '.join(words_list2)\n",
    "\n",
    "    df[column_name] = df.apply(remove_adjectives, axis=1)\n",
    "    return df\n",
    "\n",
    "\n",
    "df = eliminate_adjectives(df, 'ClusterLabel')"
   ]
  },
  {
   "cell_type": "code",
   "execution_count": 5,
   "metadata": {},
   "outputs": [],
   "source": [
    "def eliminate_number_words(df2, column_name):\n",
    "    df = deepcopy(df2)\n",
    "    numbers = {'1', '2', '3', '4', '5', '6', '7', '8', '9'}\n",
    "    \n",
    "    def remove_number_words(row):\n",
    "        words_list = row.split()\n",
    "        words_list2 = [word for word in words_list if not any(char.isdigit() for char in word)]\n",
    "\n",
    "        if len(words_list2) == 0:\n",
    "            return 'null'\n",
    "        else:\n",
    "            return ' '.join(words_list2)\n",
    "\n",
    "    df[column_name] = df[column_name].apply(remove_number_words)\n",
    "    return df\n",
    "\n",
    "\n",
    "df = eliminate_number_words(df, 'ClusterLabel')"
   ]
  },
  {
   "cell_type": "code",
   "execution_count": 6,
   "metadata": {},
   "outputs": [],
   "source": [
    "from sklearn.feature_extraction.text import TfidfVectorizer\n",
    "\n",
    "vectorizer = TfidfVectorizer(analyzer='word')\n",
    "\n",
    "X = vectorizer.fit_transform(df['ClusterLabel'])\n",
    "\n",
    "df_tfidf = pd.DataFrame(X.toarray(), columns=vectorizer.get_feature_names_out())"
   ]
  },
  {
   "cell_type": "code",
   "execution_count": 7,
   "metadata": {},
   "outputs": [],
   "source": [
    "# from sklearn.cluster import KMeans\n",
    "# def count_wcss_scores(X, k_max):\n",
    "#     #  WCSS = within-cluster sum of squares\n",
    "#     scores = []\n",
    "#     for k in range(1, k_max+1):\n",
    "#         kmeans = KMeans(n_clusters=k, random_state=0)\n",
    "#         kmeans.fit(X)\n",
    "#         wcss = kmeans.score(X) * -1 # score returns -WCSS\n",
    "#         scores.append(wcss)\n",
    "#     return scores\n",
    "\n",
    "# from sklearn.cluster import KMeans\n",
    "# import matplotlib.pyplot as plt\n",
    "\n",
    "\n",
    "# wcss_vec = count_wcss_scores(df_tfidf, 30)\n",
    "# x_ticks = list(range(1, len(wcss_vec) + 1))\n",
    "# plt.plot(x_ticks, wcss_vec, 'bx-')\n",
    "# plt.xlabel('k')\n",
    "# plt.ylabel('Within-cluster sum of squares')\n",
    "# plt.title('The Elbow Method showing the optimal k')\n",
    "# plt.show()"
   ]
  },
  {
   "cell_type": "code",
   "execution_count": 30,
   "metadata": {},
   "outputs": [
    {
     "name": "stderr",
     "output_type": "stream",
     "text": [
      "c:\\Users\\mateu\\AppData\\Local\\Programs\\Python\\Python310\\lib\\site-packages\\sklearn\\cluster\\_kmeans.py:870: FutureWarning:\n",
      "\n",
      "The default value of `n_init` will change from 10 to 'auto' in 1.4. Set the value of `n_init` explicitly to suppress the warning\n",
      "\n"
     ]
    }
   ],
   "source": [
    "from sklearn.cluster import KMeans\n",
    "kmeans = KMeans(n_clusters=10)\n",
    "kmeans.fit(X)\n",
    "result = pd.concat([df['ClusterLabel'],pd.DataFrame(X.toarray(),columns=vectorizer.get_feature_names_out())],axis=1)\n",
    "result['cluster'] = kmeans.predict(X)"
   ]
  },
  {
   "cell_type": "code",
   "execution_count": 31,
   "metadata": {},
   "outputs": [],
   "source": [
    "clusters = result['cluster'].unique()\n",
    "labels = []\n",
    "for i in range(len(clusters)):\n",
    "    subset = result[result['cluster'] == clusters[i]]\n",
    "    words = ' '.join([x for x in np.where(subset.all()!=0,subset.columns,None) if x and x!='Name' and x!='cluster' and x != 'ClusterLabel' and len(x.split()) == 1])\n",
    "    labels.append(words)\n",
    "labels_table = pd.DataFrame(zip(clusters,labels),columns=['cluster','label'])\n",
    "result_labelled = pd.merge(result,labels_table,on='cluster',how='left')\n"
   ]
  },
  {
   "cell_type": "code",
   "execution_count": 13,
   "metadata": {},
   "outputs": [
    {
     "name": "stdout",
     "output_type": "stream",
     "text": [
      "value_counts: \n",
      " label\n",
      "bosch                            3261\n",
      "samsung                          1928\n",
      "siemens                          1759\n",
      "smeg                             1179\n",
      "lg                               1112\n",
      "                                 ... \n",
      "ebac                               12\n",
      "logik                              12\n",
      "finlux                             11\n",
      "ide kfn miele                       9\n",
      "biofresh kbp liebherr premium       2\n",
      "Name: label, Length: 191, dtype: int64\n",
      "\n",
      "\n",
      "number of labels: \n",
      " 191\n",
      "\n",
      "\n",
      "labels:  ['bosch', 'samsung', 'siemens', 'smeg', 'lg', 'hotpoint', '', 'aeg', 'beko', 'neff', 'zanussi', 'liebherr', 'indesit', 'gorenje', 'intel xeon', 'hoover', 'box core intel', 'miele', 'bravia sony', 'galaxy samsung', 'sim', 'whirlpool', 'hobbs russell', 'hisense', 'candy', 'box', 'core intel', 'panasonic', 'lumix panasonic', 'apple iphone', 'blomberg', 'lec', 'opteron socket tray', 'sharp', 'nokia', 'tray xeon', 'canon eos is', 'comfort', 'cda', 'montpellier', 'philips', 'sony xperia', 'cyber shot sony', 'amica', 'swan', 'fujifilm', 'intel tray xeon', 'doro', 'amd ryzen', 'fisher', 'sony', 'huawei', 'fridgemaster', 'intel quad socket', 'amd box', 'cello', 'canon eos', 'apple iphone plus', 'nikon', 'alpha sony', 'nikon vr', 'panasonic viera', 'dp intel socket tray upgrade xeon', 'moto', 'hotpoint uk', 'cream', 'intel socket', 'amd hp opteron tray', 'canon powershot', 'blackberry', 'alcatel', 'intel pentium tray', 'lumix ois panasonic', 'honor huawei', 'htc', 'alpha oss sony', 'box intel pentium', 'coolpix nikon', 'liebherr premium', 'nokia sim', 'pentax', 'toshiba', 'haier', 'gold', 'knight', 'amd athlon', 'iceking', 'retro', 'grey', 'celeron intel', 'ii olympus', 'canon', 'canon ixus', 'belling', 'ericsson sony', 'xiaomi', 'cat', 'igenix', 'daewoo', 'miele scvi', 'gnp liebherr', 'amd tray', 'bea fon', 'lumia', 'hotpoint mwh', 'amd opteron', 'nordmende', 'kodak', 'wiko', 'aquos sharp', 'de dietrich', 'loewe', 'cream gorenje', 'bauknecht', 'redmi sim xiaomi', 'praktica', 'constructa', 'miele sci', 'sc', 'biofresh comfort liebherr', 'archos sim', 'gp liebherr', 'doogee sim', 'linsar', 'graphite hotpoint', 'electrolux', 'blackview sim', 'caple', 'biofresh liebherr nofrost', 'google', 'cubot sim', 'cnef liebherr', 'graphite samsung', 'desire htc', 'sim ulefone', 'leica', 'motorola', 'bush', 'zte', 'doro phoneeasy', 'olympus', 'apple iphone max xs', 'rollei', 'baumatic', 'apple iphone xs', 'dxoa hoover', 'amd phenom', 'rangemaster', 'akai', 'statesman', 'exquisit', 'hbwm hoover', 'quattro sigma', 'one', 'canon iii', 'edge galaxy samsung', 'iceq', 'severin', 'denver', 'olympus pen', 'iii mark olympus', 'asus zenfone', 'electriq', 'ricoh', 'zanker', 'morphy richards', 'indesit iwdc', 'kenwood', 'maxcom', 'grundig', 'frigidaire', 'easyshare kodak', 'amd', 'ttfone', 'hfc hotpoint', 'viewsonic', 'sia', 'leagoo sim', 'servis', 'bus celeron intel socket tray', 'kuhla', 'cuef liebherr', 'stoves', 'digihome', 'world', 'cookology', 'ebac', 'logik', 'finlux', 'ide kfn miele', 'biofresh kbp liebherr premium']\n"
     ]
    }
   ],
   "source": [
    "print('value_counts: \\n', result_labelled.groupby(['label'])['label'].count().sort_values(ascending=False))\n",
    "\n",
    "labels = result_labelled.groupby(['label'])['label'].count().sort_values(ascending=False).index.tolist()\n",
    "\n",
    "print('\\n\\nnumber of labels: \\n', len(labels))\n",
    "print('\\n\\nlabels: ', labels)"
   ]
  },
  {
   "cell_type": "code",
   "execution_count": 11,
   "metadata": {},
   "outputs": [
    {
     "data": {
      "text/plain": [
       "<Axes: title={'center': 'Liczba elementów w stworzonych labels'}, xlabel='label'>"
      ]
     },
     "execution_count": 11,
     "metadata": {},
     "output_type": "execute_result"
    },
    {
     "data": {
      "image/png": "[encoded data removed]",
      "text/plain": [
       "<Figure size 640x480 with 1 Axes>"
      ]
     },
     "metadata": {},
     "output_type": "display_data"
    }
   ],
   "source": [
    "p = result_labelled['label'].value_counts().sort_values(ascending=False).head(30).tail(29)\n",
    "p.plot(kind='bar',title='Liczba elementów w stworzonych labels')"
   ]
  },
  {
   "cell_type": "code",
   "execution_count": 29,
   "metadata": {},
   "outputs": [
    {
     "ename": "ValueError",
     "evalue": "Mime type rendering requires nbformat>=4.2.0 but it is not installed",
     "output_type": "error",
     "traceback": [
      "\u001b[1;31m---------------------------------------------------------------------------\u001b[0m",
      "\u001b[1;31mValueError\u001b[0m                                Traceback (most recent call last)",
      "File \u001b[1;32m~\\AppData\\Roaming\\Python\\Python310\\site-packages\\IPython\\core\\formatters.py:922\u001b[0m, in \u001b[0;36mIPythonDisplayFormatter.__call__\u001b[1;34m(self, obj)\u001b[0m\n\u001b[0;32m    920\u001b[0m method \u001b[39m=\u001b[39m get_real_method(obj, \u001b[39mself\u001b[39m\u001b[39m.\u001b[39mprint_method)\n\u001b[0;32m    921\u001b[0m \u001b[39mif\u001b[39;00m method \u001b[39mis\u001b[39;00m \u001b[39mnot\u001b[39;00m \u001b[39mNone\u001b[39;00m:\n\u001b[1;32m--> 922\u001b[0m     method()\n\u001b[0;32m    923\u001b[0m     \u001b[39mreturn\u001b[39;00m \u001b[39mTrue\u001b[39;00m\n",
      "File \u001b[1;32mc:\\Users\\mateu\\AppData\\Local\\Programs\\Python\\Python310\\lib\\site-packages\\plotly\\basedatatypes.py:834\u001b[0m, in \u001b[0;36mBaseFigure._ipython_display_\u001b[1;34m(self)\u001b[0m\n\u001b[0;32m    831\u001b[0m \u001b[39mimport\u001b[39;00m \u001b[39mplotly\u001b[39;00m\u001b[39m.\u001b[39;00m\u001b[39mio\u001b[39;00m \u001b[39mas\u001b[39;00m \u001b[39mpio\u001b[39;00m\n\u001b[0;32m    833\u001b[0m \u001b[39mif\u001b[39;00m pio\u001b[39m.\u001b[39mrenderers\u001b[39m.\u001b[39mrender_on_display \u001b[39mand\u001b[39;00m pio\u001b[39m.\u001b[39mrenderers\u001b[39m.\u001b[39mdefault:\n\u001b[1;32m--> 834\u001b[0m     pio\u001b[39m.\u001b[39;49mshow(\u001b[39mself\u001b[39;49m)\n\u001b[0;32m    835\u001b[0m \u001b[39melse\u001b[39;00m:\n\u001b[0;32m    836\u001b[0m     \u001b[39mprint\u001b[39m(\u001b[39mrepr\u001b[39m(\u001b[39mself\u001b[39m))\n",
      "File \u001b[1;32mc:\\Users\\mateu\\AppData\\Local\\Programs\\Python\\Python310\\lib\\site-packages\\plotly\\io\\_renderers.py:396\u001b[0m, in \u001b[0;36mshow\u001b[1;34m(fig, renderer, validate, **kwargs)\u001b[0m\n\u001b[0;32m    391\u001b[0m         \u001b[39mraise\u001b[39;00m \u001b[39mValueError\u001b[39;00m(\n\u001b[0;32m    392\u001b[0m             \u001b[39m\"\u001b[39m\u001b[39mMime type rendering requires ipython but it is not installed\u001b[39m\u001b[39m\"\u001b[39m\n\u001b[0;32m    393\u001b[0m         )\n\u001b[0;32m    395\u001b[0m     \u001b[39mif\u001b[39;00m \u001b[39mnot\u001b[39;00m nbformat \u001b[39mor\u001b[39;00m Version(nbformat\u001b[39m.\u001b[39m__version__) \u001b[39m<\u001b[39m Version(\u001b[39m\"\u001b[39m\u001b[39m4.2.0\u001b[39m\u001b[39m\"\u001b[39m):\n\u001b[1;32m--> 396\u001b[0m         \u001b[39mraise\u001b[39;00m \u001b[39mValueError\u001b[39;00m(\n\u001b[0;32m    397\u001b[0m             \u001b[39m\"\u001b[39m\u001b[39mMime type rendering requires nbformat>=4.2.0 but it is not installed\u001b[39m\u001b[39m\"\u001b[39m\n\u001b[0;32m    398\u001b[0m         )\n\u001b[0;32m    400\u001b[0m     ipython_display\u001b[39m.\u001b[39mdisplay(bundle, raw\u001b[39m=\u001b[39m\u001b[39mTrue\u001b[39;00m)\n\u001b[0;32m    402\u001b[0m \u001b[39m# external renderers\u001b[39;00m\n",
      "\u001b[1;31mValueError\u001b[0m: Mime type rendering requires nbformat>=4.2.0 but it is not installed"
     ]
    },
    {
     "data": {
      "application/vnd.plotly.v1+json": {
       "config": {
        "plotlyServerURL": "https://plot.ly"
       },
       "data": [
        {
         "branchvalues": "total",
         "domain": {
          "x": [
           0,
           1
          ],
          "y": [
           0,
           1
          ]
         },
         "hovertemplate": "labels=%{label}<br>count=%{value}<br>parent=%{parent}<br>id=%{id}<extra></extra>",
         "ids": [
          "21/aeg",
          "99/akai",
          "72/alcatel",
          "82/alpha oss sony",
          "119/alpha sony",
          "185/amd",
          "94/amd athlon",
          "33/amd box",
          "192/amd hp opteron tray",
          "122/amd opteron",
          "169/amd phenom",
          "81/amd ryzen",
          "181/amd tray",
          "52/amica",
          "24/apple iphone",
          "189/apple iphone max xs",
          "78/apple iphone plus",
          "173/apple iphone xs",
          "137/aquos sharp",
          "170/archos sim",
          "177/asus zenfone",
          "118/bauknecht",
          "91/baumatic",
          "107/bea fon",
          "8/beko",
          "48/belling",
          "7/biofresh comfort liebherr",
          "117/biofresh kbp liebherr premium",
          "150/biofresh liebherr nofrost",
          "97/blackberry",
          "158/blackview sim",
          "19/blomberg",
          "5/bosch",
          "10/box",
          "36/box core intel",
          "116/box intel pentium",
          "17/bravia sony",
          "76/bus celeron intel socket tray",
          "100/bush",
          "20/candy",
          "77/canon",
          "108/canon eos",
          "61/canon eos is",
          "13/canon iii",
          "121/canon ixus",
          "54/canon powershot",
          "85/caple",
          "75/cat",
          "30/cda",
          "167/celeron intel",
          "56/cello",
          "65/cnef liebherr",
          "129/comfort",
          "111/constructa",
          "172/cookology",
          "139/coolpix nikon",
          "42/core intel",
          "79/cream",
          "146/cream gorenje",
          "87/cubot sim",
          "176/cuef liebherr",
          "45/cyber shot sony",
          "71/daewoo",
          "86/de dietrich",
          "96/denver",
          "103/desire htc",
          "171/digihome",
          "156/doogee sim",
          "51/doro",
          "183/doro phoneeasy",
          "67/dp intel socket tray upgrade xeon",
          "160/dxoa hoover",
          "179/easyshare kodak",
          "190/ebac",
          "188/edge galaxy samsung",
          "89/electriq",
          "124/electrolux",
          "126/ericsson sony",
          "155/exquisit",
          "178/finlux",
          "32/fisher",
          "58/fridgemaster",
          "104/frigidaire",
          "53/fujifilm",
          "37/galaxy samsung",
          "110/gnp liebherr",
          "138/gold",
          "106/google",
          "15/gorenje",
          "123/gp liebherr",
          "187/graphite hotpoint",
          "127/graphite samsung",
          "161/grey",
          "101/grundig",
          "73/haier",
          "186/hbwm hoover",
          "143/hfc hotpoint",
          "25/hisense",
          "28/hobbs russell",
          "47/honor huawei",
          "27/hoover",
          "9/hotpoint",
          "154/hotpoint mwh",
          "131/hotpoint uk",
          "153/htc",
          "147/huawei",
          "43/iceking",
          "112/iceq",
          "39/ide kfn miele",
          "93/igenix",
          "193/ii olympus",
          "35/iii mark olympus",
          "14/indesit",
          "184/indesit",
          "198/indesit iwdc",
          "64/intel pentium tray",
          "1/intel quad socket",
          "166/intel socket",
          "162/intel tray xeon",
          "40/intel xeon",
          "148/kenwood",
          "57/knight",
          "60/kodak",
          "132/kuhla",
          "151/leagoo sim",
          "26/lec",
          "120/leica",
          "2/lg",
          "12/liebherr",
          "199/liebherr",
          "195/liebherr premium",
          "69/linsar",
          "130/loewe",
          "191/logik",
          "70/lumia",
          "49/lumix ois panasonic",
          "59/lumix panasonic",
          "128/maxcom",
          "68/miele",
          "149/miele",
          "197/miele",
          "135/miele sci",
          "113/miele scvi",
          "34/montpellier",
          "152/morphy richards",
          "23/moto",
          "144/moto",
          "163/motorola",
          "4/neff",
          "38/nikon",
          "109/nikon vr",
          "83/nokia",
          "29/nokia sim",
          "63/nordmende",
          "92/olympus",
          "164/olympus pen",
          "66/one",
          "31/opteron socket tray",
          "18/panasonic",
          "74/panasonic viera",
          "80/pentax",
          "44/philips",
          "84/praktica",
          "88/quattro sigma",
          "142/rangemaster",
          "114/redmi sim xiaomi",
          "141/retro",
          "182/ricoh",
          "115/rollei",
          "3/samsung",
          "50/sc",
          "180/servis",
          "125/severin",
          "22/sharp",
          "140/sia",
          "6/siemens",
          "159/sim",
          "157/sim ulefone",
          "0/smeg",
          "62/sony",
          "16/sony xperia",
          "105/statesman",
          "145/stoves",
          "46/swan",
          "95/toshiba",
          "55/tray xeon",
          "196/ttfone",
          "102/viewsonic",
          "41/whirlpool",
          "133/wiko",
          "194/world",
          "90/xiaomi",
          "98/zanker",
          "11/zanussi",
          "136/zte",
          "0",
          "1",
          "2",
          "3",
          "4",
          "5",
          "6",
          "7",
          "8",
          "9",
          "10",
          "11",
          "12",
          "13",
          "14",
          "15",
          "16",
          "17",
          "18",
          "19",
          "20",
          "21",
          "22",
          "23",
          "24",
          "25",
          "26",
          "27",
          "28",
          "29",
          "30",
          "31",
          "32",
          "33",
          "34",
          "35",
          "36",
          "37",
          "38",
          "39",
          "40",
          "41",
          "42",
          "43",
          "44",
          "45",
          "46",
          "47",
          "48",
          "49",
          "50",
          "51",
          "52",
          "53",
          "54",
          "55",
          "56",
          "57",
          "58",
          "59",
          "60",
          "61",
          "62",
          "63",
          "64",
          "65",
          "66",
          "67",
          "68",
          "69",
          "70",
          "71",
          "72",
          "73",
          "74",
          "75",
          "76",
          "77",
          "78",
          "79",
          "80",
          "81",
          "82",
          "83",
          "84",
          "85",
          "86",
          "87",
          "88",
          "89",
          "90",
          "91",
          "92",
          "93",
          "94",
          "95",
          "96",
          "97",
          "98",
          "99",
          "100",
          "101",
          "102",
          "103",
          "104",
          "105",
          "106",
          "107",
          "108",
          "109",
          "110",
          "111",
          "112",
          "113",
          "114",
          "115",
          "116",
          "117",
          "118",
          "119",
          "120",
          "121",
          "122",
          "123",
          "124",
          "125",
          "126",
          "127",
          "128",
          "129",
          "130",
          "131",
          "132",
          "133",
          "135",
          "136",
          "137",
          "138",
          "139",
          "140",
          "141",
          "142",
          "143",
          "144",
          "145",
          "146",
          "147",
          "148",
          "149",
          "150",
          "151",
          "152",
          "153",
          "154",
          "155",
          "156",
          "157",
          "158",
          "159",
          "160",
          "161",
          "162",
          "163",
          "164",
          "166",
          "167",
          "169",
          "170",
          "171",
          "172",
          "173",
          "176",
          "177",
          "178",
          "179",
          "180",
          "181",
          "182",
          "183",
          "184",
          "185",
          "186",
          "187",
          "188",
          "189",
          "190",
          "191",
          "192",
          "193",
          "194",
          "195",
          "196",
          "197",
          "198",
          "199"
         ],
         "labels": [
          "aeg",
          "akai",
          "alcatel",
          "alpha oss sony",
          "alpha sony",
          "amd",
          "amd athlon",
          "amd box",
          "amd hp opteron tray",
          "amd opteron",
          "amd phenom",
          "amd ryzen",
          "amd tray",
          "amica",
          "apple iphone",
          "apple iphone max xs",
          "apple iphone plus",
          "apple iphone xs",
          "aquos sharp",
          "archos sim",
          "asus zenfone",
          "bauknecht",
          "baumatic",
          "bea fon",
          "beko",
          "belling",
          "biofresh comfort liebherr",
          "biofresh kbp liebherr premium",
          "biofresh liebherr nofrost",
          "blackberry",
          "blackview sim",
          "blomberg",
          "bosch",
          "box",
          "box core intel",
          "box intel pentium",
          "bravia sony",
          "bus celeron intel socket tray",
          "bush",
          "candy",
          "canon",
          "canon eos",
          "canon eos is",
          "canon iii",
          "canon ixus",
          "canon powershot",
          "caple",
          "cat",
          "cda",
          "celeron intel",
          "cello",
          "cnef liebherr",
          "comfort",
          "constructa",
          "cookology",
          "coolpix nikon",
          "core intel",
          "cream",
          "cream gorenje",
          "cubot sim",
          "cuef liebherr",
          "cyber shot sony",
          "daewoo",
          "de dietrich",
          "denver",
          "desire htc",
          "digihome",
          "doogee sim",
          "doro",
          "doro phoneeasy",
          "dp intel socket tray upgrade xeon",
          "dxoa hoover",
          "easyshare kodak",
          "ebac",
          "edge galaxy samsung",
          "electriq",
          "electrolux",
          "ericsson sony",
          "exquisit",
          "finlux",
          "fisher",
          "fridgemaster",
          "frigidaire",
          "fujifilm",
          "galaxy samsung",
          "gnp liebherr",
          "gold",
          "google",
          "gorenje",
          "gp liebherr",
          "graphite hotpoint",
          "graphite samsung",
          "grey",
          "grundig",
          "haier",
          "hbwm hoover",
          "hfc hotpoint",
          "hisense",
          "hobbs russell",
          "honor huawei",
          "hoover",
          "hotpoint",
          "hotpoint mwh",
          "hotpoint uk",
          "htc",
          "huawei",
          "iceking",
          "iceq",
          "ide kfn miele",
          "igenix",
          "ii olympus",
          "iii mark olympus",
          "indesit",
          "indesit",
          "indesit iwdc",
          "intel pentium tray",
          "intel quad socket",
          "intel socket",
          "intel tray xeon",
          "intel xeon",
          "kenwood",
          "knight",
          "kodak",
          "kuhla",
          "leagoo sim",
          "lec",
          "leica",
          "lg",
          "liebherr",
          "liebherr",
          "liebherr premium",
          "linsar",
          "loewe",
          "logik",
          "lumia",
          "lumix ois panasonic",
          "lumix panasonic",
          "maxcom",
          "miele",
          "miele",
          "miele",
          "miele sci",
          "miele scvi",
          "montpellier",
          "morphy richards",
          "moto",
          "moto",
          "motorola",
          "neff",
          "nikon",
          "nikon vr",
          "nokia",
          "nokia sim",
          "nordmende",
          "olympus",
          "olympus pen",
          "one",
          "opteron socket tray",
          "panasonic",
          "panasonic viera",
          "pentax",
          "philips",
          "praktica",
          "quattro sigma",
          "rangemaster",
          "redmi sim xiaomi",
          "retro",
          "ricoh",
          "rollei",
          "samsung",
          "sc",
          "servis",
          "severin",
          "sharp",
          "sia",
          "siemens",
          "sim",
          "sim ulefone",
          "smeg",
          "sony",
          "sony xperia",
          "statesman",
          "stoves",
          "swan",
          "toshiba",
          "tray xeon",
          "ttfone",
          "viewsonic",
          "whirlpool",
          "wiko",
          "world",
          "xiaomi",
          "zanker",
          "zanussi",
          "zte",
          "0",
          "1",
          "2",
          "3",
          "4",
          "5",
          "6",
          "7",
          "8",
          "9",
          "10",
          "11",
          "12",
          "13",
          "14",
          "15",
          "16",
          "17",
          "18",
          "19",
          "20",
          "21",
          "22",
          "23",
          "24",
          "25",
          "26",
          "27",
          "28",
          "29",
          "30",
          "31",
          "32",
          "33",
          "34",
          "35",
          "36",
          "37",
          "38",
          "39",
          "40",
          "41",
          "42",
          "43",
          "44",
          "45",
          "46",
          "47",
          "48",
          "49",
          "50",
          "51",
          "52",
          "53",
          "54",
          "55",
          "56",
          "57",
          "58",
          "59",
          "60",
          "61",
          "62",
          "63",
          "64",
          "65",
          "66",
          "67",
          "68",
          "69",
          "70",
          "71",
          "72",
          "73",
          "74",
          "75",
          "76",
          "77",
          "78",
          "79",
          "80",
          "81",
          "82",
          "83",
          "84",
          "85",
          "86",
          "87",
          "88",
          "89",
          "90",
          "91",
          "92",
          "93",
          "94",
          "95",
          "96",
          "97",
          "98",
          "99",
          "100",
          "101",
          "102",
          "103",
          "104",
          "105",
          "106",
          "107",
          "108",
          "109",
          "110",
          "111",
          "112",
          "113",
          "114",
          "115",
          "116",
          "117",
          "118",
          "119",
          "120",
          "121",
          "122",
          "123",
          "124",
          "125",
          "126",
          "127",
          "128",
          "129",
          "130",
          "131",
          "132",
          "133",
          "135",
          "136",
          "137",
          "138",
          "139",
          "140",
          "141",
          "142",
          "143",
          "144",
          "145",
          "146",
          "147",
          "148",
          "149",
          "150",
          "151",
          "152",
          "153",
          "154",
          "155",
          "156",
          "157",
          "158",
          "159",
          "160",
          "161",
          "162",
          "163",
          "164",
          "166",
          "167",
          "169",
          "170",
          "171",
          "172",
          "173",
          "176",
          "177",
          "178",
          "179",
          "180",
          "181",
          "182",
          "183",
          "184",
          "185",
          "186",
          "187",
          "188",
          "189",
          "190",
          "191",
          "192",
          "193",
          "194",
          "195",
          "196",
          "197",
          "198",
          "199"
         ],
         "name": "",
         "parents": [
          "21",
          "99",
          "72",
          "82",
          "119",
          "185",
          "94",
          "33",
          "192",
          "122",
          "169",
          "81",
          "181",
          "52",
          "24",
          "189",
          "78",
          "173",
          "137",
          "170",
          "177",
          "118",
          "91",
          "107",
          "8",
          "48",
          "7",
          "117",
          "150",
          "97",
          "158",
          "19",
          "5",
          "10",
          "36",
          "116",
          "17",
          "76",
          "100",
          "20",
          "77",
          "108",
          "61",
          "13",
          "121",
          "54",
          "85",
          "75",
          "30",
          "167",
          "56",
          "65",
          "129",
          "111",
          "172",
          "139",
          "42",
          "79",
          "146",
          "87",
          "176",
          "45",
          "71",
          "86",
          "96",
          "103",
          "171",
          "156",
          "51",
          "183",
          "67",
          "160",
          "179",
          "190",
          "188",
          "89",
          "124",
          "126",
          "155",
          "178",
          "32",
          "58",
          "104",
          "53",
          "37",
          "110",
          "138",
          "106",
          "15",
          "123",
          "187",
          "127",
          "161",
          "101",
          "73",
          "186",
          "143",
          "25",
          "28",
          "47",
          "27",
          "9",
          "154",
          "131",
          "153",
          "147",
          "43",
          "112",
          "39",
          "93",
          "193",
          "35",
          "14",
          "184",
          "198",
          "64",
          "1",
          "166",
          "162",
          "40",
          "148",
          "57",
          "60",
          "132",
          "151",
          "26",
          "120",
          "2",
          "12",
          "199",
          "195",
          "69",
          "130",
          "191",
          "70",
          "49",
          "59",
          "128",
          "68",
          "149",
          "197",
          "135",
          "113",
          "34",
          "152",
          "23",
          "144",
          "163",
          "4",
          "38",
          "109",
          "83",
          "29",
          "63",
          "92",
          "164",
          "66",
          "31",
          "18",
          "74",
          "80",
          "44",
          "84",
          "88",
          "142",
          "114",
          "141",
          "182",
          "115",
          "3",
          "50",
          "180",
          "125",
          "22",
          "140",
          "6",
          "159",
          "157",
          "0",
          "62",
          "16",
          "105",
          "145",
          "46",
          "95",
          "55",
          "196",
          "102",
          "41",
          "133",
          "194",
          "90",
          "98",
          "11",
          "136",
          "",
          "",
          "",
          "",
          "",
          "",
          "",
          "",
          "",
          "",
          "",
          "",
          "",
          "",
          "",
          "",
          "",
          "",
          "",
          "",
          "",
          "",
          "",
          "",
          "",
          "",
          "",
          "",
          "",
          "",
          "",
          "",
          "",
          "",
          "",
          "",
          "",
          "",
          "",
          "",
          "",
          "",
          "",
          "",
          "",
          "",
          "",
          "",
          "",
          "",
          "",
          "",
          "",
          "",
          "",
          "",
          "",
          "",
          "",
          "",
          "",
          "",
          "",
          "",
          "",
          "",
          "",
          "",
          "",
          "",
          "",
          "",
          "",
          "",
          "",
          "",
          "",
          "",
          "",
          "",
          "",
          "",
          "",
          "",
          "",
          "",
          "",
          "",
          "",
          "",
          "",
          "",
          "",
          "",
          "",
          "",
          "",
          "",
          "",
          "",
          "",
          "",
          "",
          "",
          "",
          "",
          "",
          "",
          "",
          "",
          "",
          "",
          "",
          "",
          "",
          "",
          "",
          "",
          "",
          "",
          "",
          "",
          "",
          "",
          "",
          "",
          "",
          "",
          "",
          "",
          "",
          "",
          "",
          "",
          "",
          "",
          "",
          "",
          "",
          "",
          "",
          "",
          "",
          "",
          "",
          "",
          "",
          "",
          "",
          "",
          "",
          "",
          "",
          "",
          "",
          "",
          "",
          "",
          "",
          "",
          "",
          "",
          "",
          "",
          "",
          "",
          "",
          "",
          "",
          "",
          "",
          "",
          "",
          "",
          "",
          "",
          "",
          "",
          "",
          "",
          "",
          "",
          "",
          "",
          "",
          "",
          "",
          "",
          "",
          "",
          "",
          "",
          "",
          "",
          ""
         ],
         "type": "treemap",
         "values": [
          892,
          32,
          100,
          93,
          134,
          22,
          84,
          159,
          105,
          59,
          33,
          176,
          62,
          223,
          270,
          35,
          137,
          33,
          54,
          51,
          26,
          53,
          35,
          61,
          829,
          68,
          51,
          2,
          42,
          101,
          46,
          268,
          3261,
          313,
          447,
          93,
          421,
          19,
          36,
          324,
          71,
          148,
          238,
          29,
          68,
          102,
          44,
          64,
          234,
          72,
          150,
          39,
          235,
          52,
          13,
          90,
          299,
          113,
          53,
          40,
          17,
          231,
          62,
          54,
          27,
          38,
          15,
          49,
          177,
          36,
          121,
          33,
          22,
          12,
          28,
          25,
          46,
          67,
          31,
          11,
          173,
          161,
          23,
          214,
          382,
          62,
          85,
          40,
          607,
          50,
          47,
          39,
          73,
          24,
          86,
          31,
          21,
          332,
          336,
          95,
          513,
          1089,
          60,
          115,
          94,
          161,
          76,
          28,
          9,
          62,
          72,
          26,
          448,
          206,
          24,
          99,
          160,
          111,
          195,
          568,
          24,
          84,
          56,
          18,
          20,
          266,
          37,
          1112,
          613,
          76,
          86,
          48,
          54,
          12,
          61,
          98,
          275,
          24,
          335,
          50,
          43,
          52,
          62,
          234,
          25,
          25,
          92,
          37,
          804,
          135,
          131,
          259,
          86,
          58,
          35,
          27,
          30,
          262,
          298,
          123,
          86,
          233,
          53,
          31,
          33,
          53,
          73,
          25,
          35,
          1928,
          52,
          19,
          27,
          260,
          20,
          1759,
          381,
          38,
          1179,
          172,
          232,
          32,
          17,
          216,
          86,
          238,
          22,
          21,
          356,
          55,
          14,
          66,
          25,
          719,
          36,
          1179,
          160,
          1112,
          1928,
          804,
          3261,
          1759,
          51,
          829,
          1089,
          313,
          719,
          613,
          29,
          448,
          607,
          232,
          421,
          298,
          268,
          324,
          892,
          260,
          25,
          270,
          332,
          266,
          513,
          336,
          86,
          234,
          262,
          173,
          159,
          234,
          26,
          447,
          382,
          135,
          9,
          568,
          356,
          299,
          76,
          233,
          231,
          216,
          95,
          68,
          98,
          52,
          177,
          223,
          214,
          102,
          238,
          150,
          84,
          161,
          275,
          56,
          238,
          172,
          58,
          99,
          39,
          30,
          121,
          335,
          48,
          61,
          62,
          100,
          86,
          123,
          64,
          19,
          71,
          137,
          113,
          86,
          176,
          93,
          259,
          53,
          44,
          54,
          40,
          31,
          25,
          66,
          35,
          35,
          62,
          84,
          86,
          27,
          101,
          25,
          32,
          36,
          24,
          21,
          38,
          23,
          32,
          40,
          61,
          148,
          131,
          62,
          52,
          28,
          62,
          53,
          35,
          93,
          2,
          53,
          134,
          37,
          68,
          59,
          50,
          46,
          27,
          67,
          39,
          24,
          235,
          54,
          115,
          18,
          55,
          52,
          36,
          54,
          85,
          90,
          20,
          73,
          33,
          21,
          92,
          17,
          53,
          161,
          24,
          50,
          42,
          20,
          25,
          94,
          60,
          31,
          49,
          38,
          46,
          381,
          33,
          73,
          195,
          37,
          27,
          111,
          72,
          33,
          51,
          15,
          13,
          33,
          17,
          26,
          11,
          22,
          19,
          62,
          25,
          36,
          206,
          22,
          31,
          47,
          28,
          35,
          12,
          12,
          105,
          72,
          14,
          86,
          22,
          43,
          24,
          76
         ]
        }
       ],
       "layout": {
        "legend": {
         "tracegroupgap": 0
        },
        "margin": {
         "t": 60
        },
        "template": {
         "data": {
          "bar": [
           {
            "error_x": {
             "color": "#2a3f5f"
            },
            "error_y": {
             "color": "#2a3f5f"
            },
            "marker": {
             "line": {
              "color": "#E5ECF6",
              "width": 0.5
             },
             "pattern": {
              "fillmode": "overlay",
              "size": 10,
              "solidity": 0.2
             }
            },
            "type": "bar"
           }
          ],
          "barpolar": [
           {
            "marker": {
             "line": {
              "color": "#E5ECF6",
              "width": 0.5
             },
             "pattern": {
              "fillmode": "overlay",
              "size": 10,
              "solidity": 0.2
             }
            },
            "type": "barpolar"
           }
          ],
          "carpet": [
           {
            "aaxis": {
             "endlinecolor": "#2a3f5f",
             "gridcolor": "white",
             "linecolor": "white",
             "minorgridcolor": "white",
             "startlinecolor": "#2a3f5f"
            },
            "baxis": {
             "endlinecolor": "#2a3f5f",
             "gridcolor": "white",
             "linecolor": "white",
             "minorgridcolor": "white",
             "startlinecolor": "#2a3f5f"
            },
            "type": "carpet"
           }
          ],
          "choropleth": [
           {
            "colorbar": {
             "outlinewidth": 0,
             "ticks": ""
            },
            "type": "choropleth"
           }
          ],
          "contour": [
           {
            "colorbar": {
             "outlinewidth": 0,
             "ticks": ""
            },
            "colorscale": [
             [
              0,
              "#0d0887"
             ],
             [
              0.1111111111111111,
              "#46039f"
             ],
             [
              0.2222222222222222,
              "#7201a8"
             ],
             [
              0.3333333333333333,
              "#9c179e"
             ],
             [
              0.4444444444444444,
              "#bd3786"
             ],
             [
              0.5555555555555556,
              "#d8576b"
             ],
             [
              0.6666666666666666,
              "#ed7953"
             ],
             [
              0.7777777777777778,
              "#fb9f3a"
             ],
             [
              0.8888888888888888,
              "#fdca26"
             ],
             [
              1,
              "#f0f921"
             ]
            ],
            "type": "contour"
           }
          ],
          "contourcarpet": [
           {
            "colorbar": {
             "outlinewidth": 0,
             "ticks": ""
            },
            "type": "contourcarpet"
           }
          ],
          "heatmap": [
           {
            "colorbar": {
             "outlinewidth": 0,
             "ticks": ""
            },
            "colorscale": [
             [
              0,
              "#0d0887"
             ],
             [
              0.1111111111111111,
              "#46039f"
             ],
             [
              0.2222222222222222,
              "#7201a8"
             ],
             [
              0.3333333333333333,
              "#9c179e"
             ],
             [
              0.4444444444444444,
              "#bd3786"
             ],
             [
              0.5555555555555556,
              "#d8576b"
             ],
             [
              0.6666666666666666,
              "#ed7953"
             ],
             [
              0.7777777777777778,
              "#fb9f3a"
             ],
             [
              0.8888888888888888,
              "#fdca26"
             ],
             [
              1,
              "#f0f921"
             ]
            ],
            "type": "heatmap"
           }
          ],
          "heatmapgl": [
           {
            "colorbar": {
             "outlinewidth": 0,
             "ticks": ""
            },
            "colorscale": [
             [
              0,
              "#0d0887"
             ],
             [
              0.1111111111111111,
              "#46039f"
             ],
             [
              0.2222222222222222,
              "#7201a8"
             ],
             [
              0.3333333333333333,
              "#9c179e"
             ],
             [
              0.4444444444444444,
              "#bd3786"
             ],
             [
              0.5555555555555556,
              "#d8576b"
             ],
             [
              0.6666666666666666,
              "#ed7953"
             ],
             [
              0.7777777777777778,
              "#fb9f3a"
             ],
             [
              0.8888888888888888,
              "#fdca26"
             ],
             [
              1,
              "#f0f921"
             ]
            ],
            "type": "heatmapgl"
           }
          ],
          "histogram": [
           {
            "marker": {
             "pattern": {
              "fillmode": "overlay",
              "size": 10,
              "solidity": 0.2
             }
            },
            "type": "histogram"
           }
          ],
          "histogram2d": [
           {
            "colorbar": {
             "outlinewidth": 0,
             "ticks": ""
            },
            "colorscale": [
             [
              0,
              "#0d0887"
             ],
             [
              0.1111111111111111,
              "#46039f"
             ],
             [
              0.2222222222222222,
              "#7201a8"
             ],
             [
              0.3333333333333333,
              "#9c179e"
             ],
             [
              0.4444444444444444,
              "#bd3786"
             ],
             [
              0.5555555555555556,
              "#d8576b"
             ],
             [
              0.6666666666666666,
              "#ed7953"
             ],
             [
              0.7777777777777778,
              "#fb9f3a"
             ],
             [
              0.8888888888888888,
              "#fdca26"
             ],
             [
              1,
              "#f0f921"
             ]
            ],
            "type": "histogram2d"
           }
          ],
          "histogram2dcontour": [
           {
            "colorbar": {
             "outlinewidth": 0,
             "ticks": ""
            },
            "colorscale": [
             [
              0,
              "#0d0887"
             ],
             [
              0.1111111111111111,
              "#46039f"
             ],
             [
              0.2222222222222222,
              "#7201a8"
             ],
             [
              0.3333333333333333,
              "#9c179e"
             ],
             [
              0.4444444444444444,
              "#bd3786"
             ],
             [
              0.5555555555555556,
              "#d8576b"
             ],
             [
              0.6666666666666666,
              "#ed7953"
             ],
             [
              0.7777777777777778,
              "#fb9f3a"
             ],
             [
              0.8888888888888888,
              "#fdca26"
             ],
             [
              1,
              "#f0f921"
             ]
            ],
            "type": "histogram2dcontour"
           }
          ],
          "mesh3d": [
           {
            "colorbar": {
             "outlinewidth": 0,
             "ticks": ""
            },
            "type": "mesh3d"
           }
          ],
          "parcoords": [
           {
            "line": {
             "colorbar": {
              "outlinewidth": 0,
              "ticks": ""
             }
            },
            "type": "parcoords"
           }
          ],
          "pie": [
           {
            "automargin": true,
            "type": "pie"
           }
          ],
          "scatter": [
           {
            "fillpattern": {
             "fillmode": "overlay",
             "size": 10,
             "solidity": 0.2
            },
            "type": "scatter"
           }
          ],
          "scatter3d": [
           {
            "line": {
             "colorbar": {
              "outlinewidth": 0,
              "ticks": ""
             }
            },
            "marker": {
             "colorbar": {
              "outlinewidth": 0,
              "ticks": ""
             }
            },
            "type": "scatter3d"
           }
          ],
          "scattercarpet": [
           {
            "marker": {
             "colorbar": {
              "outlinewidth": 0,
              "ticks": ""
             }
            },
            "type": "scattercarpet"
           }
          ],
          "scattergeo": [
           {
            "marker": {
             "colorbar": {
              "outlinewidth": 0,
              "ticks": ""
             }
            },
            "type": "scattergeo"
           }
          ],
          "scattergl": [
           {
            "marker": {
             "colorbar": {
              "outlinewidth": 0,
              "ticks": ""
             }
            },
            "type": "scattergl"
           }
          ],
          "scattermapbox": [
           {
            "marker": {
             "colorbar": {
              "outlinewidth": 0,
              "ticks": ""
             }
            },
            "type": "scattermapbox"
           }
          ],
          "scatterpolar": [
           {
            "marker": {
             "colorbar": {
              "outlinewidth": 0,
              "ticks": ""
             }
            },
            "type": "scatterpolar"
           }
          ],
          "scatterpolargl": [
           {
            "marker": {
             "colorbar": {
              "outlinewidth": 0,
              "ticks": ""
             }
            },
            "type": "scatterpolargl"
           }
          ],
          "scatterternary": [
           {
            "marker": {
             "colorbar": {
              "outlinewidth": 0,
              "ticks": ""
             }
            },
            "type": "scatterternary"
           }
          ],
          "surface": [
           {
            "colorbar": {
             "outlinewidth": 0,
             "ticks": ""
            },
            "colorscale": [
             [
              0,
              "#0d0887"
             ],
             [
              0.1111111111111111,
              "#46039f"
             ],
             [
              0.2222222222222222,
              "#7201a8"
             ],
             [
              0.3333333333333333,
              "#9c179e"
             ],
             [
              0.4444444444444444,
              "#bd3786"
             ],
             [
              0.5555555555555556,
              "#d8576b"
             ],
             [
              0.6666666666666666,
              "#ed7953"
             ],
             [
              0.7777777777777778,
              "#fb9f3a"
             ],
             [
              0.8888888888888888,
              "#fdca26"
             ],
             [
              1,
              "#f0f921"
             ]
            ],
            "type": "surface"
           }
          ],
          "table": [
           {
            "cells": {
             "fill": {
              "color": "#EBF0F8"
             },
             "line": {
              "color": "white"
             }
            },
            "header": {
             "fill": {
              "color": "#C8D4E3"
             },
             "line": {
              "color": "white"
             }
            },
            "type": "table"
           }
          ]
         },
         "layout": {
          "annotationdefaults": {
           "arrowcolor": "#2a3f5f",
           "arrowhead": 0,
           "arrowwidth": 1
          },
          "autotypenumbers": "strict",
          "coloraxis": {
           "colorbar": {
            "outlinewidth": 0,
            "ticks": ""
           }
          },
          "colorscale": {
           "diverging": [
            [
             0,
             "#8e0152"
            ],
            [
             0.1,
             "#c51b7d"
            ],
            [
             0.2,
             "#de77ae"
            ],
            [
             0.3,
             "#f1b6da"
            ],
            [
             0.4,
             "#fde0ef"
            ],
            [
             0.5,
             "#f7f7f7"
            ],
            [
             0.6,
             "#e6f5d0"
            ],
            [
             0.7,
             "#b8e186"
            ],
            [
             0.8,
             "#7fbc41"
            ],
            [
             0.9,
             "#4d9221"
            ],
            [
             1,
             "#276419"
            ]
           ],
           "sequential": [
            [
             0,
             "#0d0887"
            ],
            [
             0.1111111111111111,
             "#46039f"
            ],
            [
             0.2222222222222222,
             "#7201a8"
            ],
            [
             0.3333333333333333,
             "#9c179e"
            ],
            [
             0.4444444444444444,
             "#bd3786"
            ],
            [
             0.5555555555555556,
             "#d8576b"
            ],
            [
             0.6666666666666666,
             "#ed7953"
            ],
            [
             0.7777777777777778,
             "#fb9f3a"
            ],
            [
             0.8888888888888888,
             "#fdca26"
            ],
            [
             1,
             "#f0f921"
            ]
           ],
           "sequentialminus": [
            [
             0,
             "#0d0887"
            ],
            [
             0.1111111111111111,
             "#46039f"
            ],
            [
             0.2222222222222222,
             "#7201a8"
            ],
            [
             0.3333333333333333,
             "#9c179e"
            ],
            [
             0.4444444444444444,
             "#bd3786"
            ],
            [
             0.5555555555555556,
             "#d8576b"
            ],
            [
             0.6666666666666666,
             "#ed7953"
            ],
            [
             0.7777777777777778,
             "#fb9f3a"
            ],
            [
             0.8888888888888888,
             "#fdca26"
            ],
            [
             1,
             "#f0f921"
            ]
           ]
          },
          "colorway": [
           "#636efa",
           "#EF553B",
           "#00cc96",
           "#ab63fa",
           "#FFA15A",
           "#19d3f3",
           "#FF6692",
           "#B6E880",
           "#FF97FF",
           "#FECB52"
          ],
          "font": {
           "color": "#2a3f5f"
          },
          "geo": {
           "bgcolor": "white",
           "lakecolor": "white",
           "landcolor": "#E5ECF6",
           "showlakes": true,
           "showland": true,
           "subunitcolor": "white"
          },
          "hoverlabel": {
           "align": "left"
          },
          "hovermode": "closest",
          "mapbox": {
           "style": "light"
          },
          "paper_bgcolor": "white",
          "plot_bgcolor": "#E5ECF6",
          "polar": {
           "angularaxis": {
            "gridcolor": "white",
            "linecolor": "white",
            "ticks": ""
           },
           "bgcolor": "#E5ECF6",
           "radialaxis": {
            "gridcolor": "white",
            "linecolor": "white",
            "ticks": ""
           }
          },
          "scene": {
           "xaxis": {
            "backgroundcolor": "#E5ECF6",
            "gridcolor": "white",
            "gridwidth": 2,
            "linecolor": "white",
            "showbackground": true,
            "ticks": "",
            "zerolinecolor": "white"
           },
           "yaxis": {
            "backgroundcolor": "#E5ECF6",
            "gridcolor": "white",
            "gridwidth": 2,
            "linecolor": "white",
            "showbackground": true,
            "ticks": "",
            "zerolinecolor": "white"
           },
           "zaxis": {
            "backgroundcolor": "#E5ECF6",
            "gridcolor": "white",
            "gridwidth": 2,
            "linecolor": "white",
            "showbackground": true,
            "ticks": "",
            "zerolinecolor": "white"
           }
          },
          "shapedefaults": {
           "line": {
            "color": "#2a3f5f"
           }
          },
          "ternary": {
           "aaxis": {
            "gridcolor": "white",
            "linecolor": "white",
            "ticks": ""
           },
           "baxis": {
            "gridcolor": "white",
            "linecolor": "white",
            "ticks": ""
           },
           "bgcolor": "#E5ECF6",
           "caxis": {
            "gridcolor": "white",
            "linecolor": "white",
            "ticks": ""
           }
          },
          "title": {
           "x": 0.05
          },
          "xaxis": {
           "automargin": true,
           "gridcolor": "white",
           "linecolor": "white",
           "ticks": "",
           "title": {
            "standoff": 15
           },
           "zerolinecolor": "white",
           "zerolinewidth": 2
          },
          "yaxis": {
           "automargin": true,
           "gridcolor": "white",
           "linecolor": "white",
           "ticks": "",
           "title": {
            "standoff": 15
           },
           "zerolinecolor": "white",
           "zerolinewidth": 2
          }
         }
        }
       }
      },
      "text/html": [
       "<div>                        <script type=\"text/javascript\">window.PlotlyConfig = {MathJaxConfig: 'local'};</script>\n",
       "        <script charset=\"utf-8\" src=\"https://cdn.plot.ly/plotly-2.20.0.min.js\"></script>                <div id=\"32c3b5b2-7e71-4091-8a62-7b82a5fc3fae\" class=\"plotly-graph-div\" style=\"height:100%; width:100%;\"></div>            <script type=\"text/javascript\">                                    window.PLOTLYENV=window.PLOTLYENV || {};                                    if (document.getElementById(\"32c3b5b2-7e71-4091-8a62-7b82a5fc3fae\")) {                    Plotly.newPlot(                        \"32c3b5b2-7e71-4091-8a62-7b82a5fc3fae\",                        [{\"branchvalues\":\"total\",\"domain\":{\"x\":[0.0,1.0],\"y\":[0.0,1.0]},\"hovertemplate\":\"labels=%{label}<br>count=%{value}<br>parent=%{parent}<br>id=%{id}<extra></extra>\",\"ids\":[\"21/aeg\",\"99/akai\",\"72/alcatel\",\"82/alpha oss sony\",\"119/alpha sony\",\"185/amd\",\"94/amd athlon\",\"33/amd box\",\"192/amd hp opteron tray\",\"122/amd opteron\",\"169/amd phenom\",\"81/amd ryzen\",\"181/amd tray\",\"52/amica\",\"24/apple iphone\",\"189/apple iphone max xs\",\"78/apple iphone plus\",\"173/apple iphone xs\",\"137/aquos sharp\",\"170/archos sim\",\"177/asus zenfone\",\"118/bauknecht\",\"91/baumatic\",\"107/bea fon\",\"8/beko\",\"48/belling\",\"7/biofresh comfort liebherr\",\"117/biofresh kbp liebherr premium\",\"150/biofresh liebherr nofrost\",\"97/blackberry\",\"158/blackview sim\",\"19/blomberg\",\"5/bosch\",\"10/box\",\"36/box core intel\",\"116/box intel pentium\",\"17/bravia sony\",\"76/bus celeron intel socket tray\",\"100/bush\",\"20/candy\",\"77/canon\",\"108/canon eos\",\"61/canon eos is\",\"13/canon iii\",\"121/canon ixus\",\"54/canon powershot\",\"85/caple\",\"75/cat\",\"30/cda\",\"167/celeron intel\",\"56/cello\",\"65/cnef liebherr\",\"129/comfort\",\"111/constructa\",\"172/cookology\",\"139/coolpix nikon\",\"42/core intel\",\"79/cream\",\"146/cream gorenje\",\"87/cubot sim\",\"176/cuef liebherr\",\"45/cyber shot sony\",\"71/daewoo\",\"86/de dietrich\",\"96/denver\",\"103/desire htc\",\"171/digihome\",\"156/doogee sim\",\"51/doro\",\"183/doro phoneeasy\",\"67/dp intel socket tray upgrade xeon\",\"160/dxoa hoover\",\"179/easyshare kodak\",\"190/ebac\",\"188/edge galaxy samsung\",\"89/electriq\",\"124/electrolux\",\"126/ericsson sony\",\"155/exquisit\",\"178/finlux\",\"32/fisher\",\"58/fridgemaster\",\"104/frigidaire\",\"53/fujifilm\",\"37/galaxy samsung\",\"110/gnp liebherr\",\"138/gold\",\"106/google\",\"15/gorenje\",\"123/gp liebherr\",\"187/graphite hotpoint\",\"127/graphite samsung\",\"161/grey\",\"101/grundig\",\"73/haier\",\"186/hbwm hoover\",\"143/hfc hotpoint\",\"25/hisense\",\"28/hobbs russell\",\"47/honor huawei\",\"27/hoover\",\"9/hotpoint\",\"154/hotpoint mwh\",\"131/hotpoint uk\",\"153/htc\",\"147/huawei\",\"43/iceking\",\"112/iceq\",\"39/ide kfn miele\",\"93/igenix\",\"193/ii olympus\",\"35/iii mark olympus\",\"14/indesit\",\"184/indesit\",\"198/indesit iwdc\",\"64/intel pentium tray\",\"1/intel quad socket\",\"166/intel socket\",\"162/intel tray xeon\",\"40/intel xeon\",\"148/kenwood\",\"57/knight\",\"60/kodak\",\"132/kuhla\",\"151/leagoo sim\",\"26/lec\",\"120/leica\",\"2/lg\",\"12/liebherr\",\"199/liebherr\",\"195/liebherr premium\",\"69/linsar\",\"130/loewe\",\"191/logik\",\"70/lumia\",\"49/lumix ois panasonic\",\"59/lumix panasonic\",\"128/maxcom\",\"68/miele\",\"149/miele\",\"197/miele\",\"135/miele sci\",\"113/miele scvi\",\"34/montpellier\",\"152/morphy richards\",\"23/moto\",\"144/moto\",\"163/motorola\",\"4/neff\",\"38/nikon\",\"109/nikon vr\",\"83/nokia\",\"29/nokia sim\",\"63/nordmende\",\"92/olympus\",\"164/olympus pen\",\"66/one\",\"31/opteron socket tray\",\"18/panasonic\",\"74/panasonic viera\",\"80/pentax\",\"44/philips\",\"84/praktica\",\"88/quattro sigma\",\"142/rangemaster\",\"114/redmi sim xiaomi\",\"141/retro\",\"182/ricoh\",\"115/rollei\",\"3/samsung\",\"50/sc\",\"180/servis\",\"125/severin\",\"22/sharp\",\"140/sia\",\"6/siemens\",\"159/sim\",\"157/sim ulefone\",\"0/smeg\",\"62/sony\",\"16/sony xperia\",\"105/statesman\",\"145/stoves\",\"46/swan\",\"95/toshiba\",\"55/tray xeon\",\"196/ttfone\",\"102/viewsonic\",\"41/whirlpool\",\"133/wiko\",\"194/world\",\"90/xiaomi\",\"98/zanker\",\"11/zanussi\",\"136/zte\",\"0\",\"1\",\"2\",\"3\",\"4\",\"5\",\"6\",\"7\",\"8\",\"9\",\"10\",\"11\",\"12\",\"13\",\"14\",\"15\",\"16\",\"17\",\"18\",\"19\",\"20\",\"21\",\"22\",\"23\",\"24\",\"25\",\"26\",\"27\",\"28\",\"29\",\"30\",\"31\",\"32\",\"33\",\"34\",\"35\",\"36\",\"37\",\"38\",\"39\",\"40\",\"41\",\"42\",\"43\",\"44\",\"45\",\"46\",\"47\",\"48\",\"49\",\"50\",\"51\",\"52\",\"53\",\"54\",\"55\",\"56\",\"57\",\"58\",\"59\",\"60\",\"61\",\"62\",\"63\",\"64\",\"65\",\"66\",\"67\",\"68\",\"69\",\"70\",\"71\",\"72\",\"73\",\"74\",\"75\",\"76\",\"77\",\"78\",\"79\",\"80\",\"81\",\"82\",\"83\",\"84\",\"85\",\"86\",\"87\",\"88\",\"89\",\"90\",\"91\",\"92\",\"93\",\"94\",\"95\",\"96\",\"97\",\"98\",\"99\",\"100\",\"101\",\"102\",\"103\",\"104\",\"105\",\"106\",\"107\",\"108\",\"109\",\"110\",\"111\",\"112\",\"113\",\"114\",\"115\",\"116\",\"117\",\"118\",\"119\",\"120\",\"121\",\"122\",\"123\",\"124\",\"125\",\"126\",\"127\",\"128\",\"129\",\"130\",\"131\",\"132\",\"133\",\"135\",\"136\",\"137\",\"138\",\"139\",\"140\",\"141\",\"142\",\"143\",\"144\",\"145\",\"146\",\"147\",\"148\",\"149\",\"150\",\"151\",\"152\",\"153\",\"154\",\"155\",\"156\",\"157\",\"158\",\"159\",\"160\",\"161\",\"162\",\"163\",\"164\",\"166\",\"167\",\"169\",\"170\",\"171\",\"172\",\"173\",\"176\",\"177\",\"178\",\"179\",\"180\",\"181\",\"182\",\"183\",\"184\",\"185\",\"186\",\"187\",\"188\",\"189\",\"190\",\"191\",\"192\",\"193\",\"194\",\"195\",\"196\",\"197\",\"198\",\"199\"],\"labels\":[\"aeg\",\"akai\",\"alcatel\",\"alpha oss sony\",\"alpha sony\",\"amd\",\"amd athlon\",\"amd box\",\"amd hp opteron tray\",\"amd opteron\",\"amd phenom\",\"amd ryzen\",\"amd tray\",\"amica\",\"apple iphone\",\"apple iphone max xs\",\"apple iphone plus\",\"apple iphone xs\",\"aquos sharp\",\"archos sim\",\"asus zenfone\",\"bauknecht\",\"baumatic\",\"bea fon\",\"beko\",\"belling\",\"biofresh comfort liebherr\",\"biofresh kbp liebherr premium\",\"biofresh liebherr nofrost\",\"blackberry\",\"blackview sim\",\"blomberg\",\"bosch\",\"box\",\"box core intel\",\"box intel pentium\",\"bravia sony\",\"bus celeron intel socket tray\",\"bush\",\"candy\",\"canon\",\"canon eos\",\"canon eos is\",\"canon iii\",\"canon ixus\",\"canon powershot\",\"caple\",\"cat\",\"cda\",\"celeron intel\",\"cello\",\"cnef liebherr\",\"comfort\",\"constructa\",\"cookology\",\"coolpix nikon\",\"core intel\",\"cream\",\"cream gorenje\",\"cubot sim\",\"cuef liebherr\",\"cyber shot sony\",\"daewoo\",\"de dietrich\",\"denver\",\"desire htc\",\"digihome\",\"doogee sim\",\"doro\",\"doro phoneeasy\",\"dp intel socket tray upgrade xeon\",\"dxoa hoover\",\"easyshare kodak\",\"ebac\",\"edge galaxy samsung\",\"electriq\",\"electrolux\",\"ericsson sony\",\"exquisit\",\"finlux\",\"fisher\",\"fridgemaster\",\"frigidaire\",\"fujifilm\",\"galaxy samsung\",\"gnp liebherr\",\"gold\",\"google\",\"gorenje\",\"gp liebherr\",\"graphite hotpoint\",\"graphite samsung\",\"grey\",\"grundig\",\"haier\",\"hbwm hoover\",\"hfc hotpoint\",\"hisense\",\"hobbs russell\",\"honor huawei\",\"hoover\",\"hotpoint\",\"hotpoint mwh\",\"hotpoint uk\",\"htc\",\"huawei\",\"iceking\",\"iceq\",\"ide kfn miele\",\"igenix\",\"ii olympus\",\"iii mark olympus\",\"indesit\",\"indesit\",\"indesit iwdc\",\"intel pentium tray\",\"intel quad socket\",\"intel socket\",\"intel tray xeon\",\"intel xeon\",\"kenwood\",\"knight\",\"kodak\",\"kuhla\",\"leagoo sim\",\"lec\",\"leica\",\"lg\",\"liebherr\",\"liebherr\",\"liebherr premium\",\"linsar\",\"loewe\",\"logik\",\"lumia\",\"lumix ois panasonic\",\"lumix panasonic\",\"maxcom\",\"miele\",\"miele\",\"miele\",\"miele sci\",\"miele scvi\",\"montpellier\",\"morphy richards\",\"moto\",\"moto\",\"motorola\",\"neff\",\"nikon\",\"nikon vr\",\"nokia\",\"nokia sim\",\"nordmende\",\"olympus\",\"olympus pen\",\"one\",\"opteron socket tray\",\"panasonic\",\"panasonic viera\",\"pentax\",\"philips\",\"praktica\",\"quattro sigma\",\"rangemaster\",\"redmi sim xiaomi\",\"retro\",\"ricoh\",\"rollei\",\"samsung\",\"sc\",\"servis\",\"severin\",\"sharp\",\"sia\",\"siemens\",\"sim\",\"sim ulefone\",\"smeg\",\"sony\",\"sony xperia\",\"statesman\",\"stoves\",\"swan\",\"toshiba\",\"tray xeon\",\"ttfone\",\"viewsonic\",\"whirlpool\",\"wiko\",\"world\",\"xiaomi\",\"zanker\",\"zanussi\",\"zte\",\"0\",\"1\",\"2\",\"3\",\"4\",\"5\",\"6\",\"7\",\"8\",\"9\",\"10\",\"11\",\"12\",\"13\",\"14\",\"15\",\"16\",\"17\",\"18\",\"19\",\"20\",\"21\",\"22\",\"23\",\"24\",\"25\",\"26\",\"27\",\"28\",\"29\",\"30\",\"31\",\"32\",\"33\",\"34\",\"35\",\"36\",\"37\",\"38\",\"39\",\"40\",\"41\",\"42\",\"43\",\"44\",\"45\",\"46\",\"47\",\"48\",\"49\",\"50\",\"51\",\"52\",\"53\",\"54\",\"55\",\"56\",\"57\",\"58\",\"59\",\"60\",\"61\",\"62\",\"63\",\"64\",\"65\",\"66\",\"67\",\"68\",\"69\",\"70\",\"71\",\"72\",\"73\",\"74\",\"75\",\"76\",\"77\",\"78\",\"79\",\"80\",\"81\",\"82\",\"83\",\"84\",\"85\",\"86\",\"87\",\"88\",\"89\",\"90\",\"91\",\"92\",\"93\",\"94\",\"95\",\"96\",\"97\",\"98\",\"99\",\"100\",\"101\",\"102\",\"103\",\"104\",\"105\",\"106\",\"107\",\"108\",\"109\",\"110\",\"111\",\"112\",\"113\",\"114\",\"115\",\"116\",\"117\",\"118\",\"119\",\"120\",\"121\",\"122\",\"123\",\"124\",\"125\",\"126\",\"127\",\"128\",\"129\",\"130\",\"131\",\"132\",\"133\",\"135\",\"136\",\"137\",\"138\",\"139\",\"140\",\"141\",\"142\",\"143\",\"144\",\"145\",\"146\",\"147\",\"148\",\"149\",\"150\",\"151\",\"152\",\"153\",\"154\",\"155\",\"156\",\"157\",\"158\",\"159\",\"160\",\"161\",\"162\",\"163\",\"164\",\"166\",\"167\",\"169\",\"170\",\"171\",\"172\",\"173\",\"176\",\"177\",\"178\",\"179\",\"180\",\"181\",\"182\",\"183\",\"184\",\"185\",\"186\",\"187\",\"188\",\"189\",\"190\",\"191\",\"192\",\"193\",\"194\",\"195\",\"196\",\"197\",\"198\",\"199\"],\"name\":\"\",\"parents\":[\"21\",\"99\",\"72\",\"82\",\"119\",\"185\",\"94\",\"33\",\"192\",\"122\",\"169\",\"81\",\"181\",\"52\",\"24\",\"189\",\"78\",\"173\",\"137\",\"170\",\"177\",\"118\",\"91\",\"107\",\"8\",\"48\",\"7\",\"117\",\"150\",\"97\",\"158\",\"19\",\"5\",\"10\",\"36\",\"116\",\"17\",\"76\",\"100\",\"20\",\"77\",\"108\",\"61\",\"13\",\"121\",\"54\",\"85\",\"75\",\"30\",\"167\",\"56\",\"65\",\"129\",\"111\",\"172\",\"139\",\"42\",\"79\",\"146\",\"87\",\"176\",\"45\",\"71\",\"86\",\"96\",\"103\",\"171\",\"156\",\"51\",\"183\",\"67\",\"160\",\"179\",\"190\",\"188\",\"89\",\"124\",\"126\",\"155\",\"178\",\"32\",\"58\",\"104\",\"53\",\"37\",\"110\",\"138\",\"106\",\"15\",\"123\",\"187\",\"127\",\"161\",\"101\",\"73\",\"186\",\"143\",\"25\",\"28\",\"47\",\"27\",\"9\",\"154\",\"131\",\"153\",\"147\",\"43\",\"112\",\"39\",\"93\",\"193\",\"35\",\"14\",\"184\",\"198\",\"64\",\"1\",\"166\",\"162\",\"40\",\"148\",\"57\",\"60\",\"132\",\"151\",\"26\",\"120\",\"2\",\"12\",\"199\",\"195\",\"69\",\"130\",\"191\",\"70\",\"49\",\"59\",\"128\",\"68\",\"149\",\"197\",\"135\",\"113\",\"34\",\"152\",\"23\",\"144\",\"163\",\"4\",\"38\",\"109\",\"83\",\"29\",\"63\",\"92\",\"164\",\"66\",\"31\",\"18\",\"74\",\"80\",\"44\",\"84\",\"88\",\"142\",\"114\",\"141\",\"182\",\"115\",\"3\",\"50\",\"180\",\"125\",\"22\",\"140\",\"6\",\"159\",\"157\",\"0\",\"62\",\"16\",\"105\",\"145\",\"46\",\"95\",\"55\",\"196\",\"102\",\"41\",\"133\",\"194\",\"90\",\"98\",\"11\",\"136\",\"\",\"\",\"\",\"\",\"\",\"\",\"\",\"\",\"\",\"\",\"\",\"\",\"\",\"\",\"\",\"\",\"\",\"\",\"\",\"\",\"\",\"\",\"\",\"\",\"\",\"\",\"\",\"\",\"\",\"\",\"\",\"\",\"\",\"\",\"\",\"\",\"\",\"\",\"\",\"\",\"\",\"\",\"\",\"\",\"\",\"\",\"\",\"\",\"\",\"\",\"\",\"\",\"\",\"\",\"\",\"\",\"\",\"\",\"\",\"\",\"\",\"\",\"\",\"\",\"\",\"\",\"\",\"\",\"\",\"\",\"\",\"\",\"\",\"\",\"\",\"\",\"\",\"\",\"\",\"\",\"\",\"\",\"\",\"\",\"\",\"\",\"\",\"\",\"\",\"\",\"\",\"\",\"\",\"\",\"\",\"\",\"\",\"\",\"\",\"\",\"\",\"\",\"\",\"\",\"\",\"\",\"\",\"\",\"\",\"\",\"\",\"\",\"\",\"\",\"\",\"\",\"\",\"\",\"\",\"\",\"\",\"\",\"\",\"\",\"\",\"\",\"\",\"\",\"\",\"\",\"\",\"\",\"\",\"\",\"\",\"\",\"\",\"\",\"\",\"\",\"\",\"\",\"\",\"\",\"\",\"\",\"\",\"\",\"\",\"\",\"\",\"\",\"\",\"\",\"\",\"\",\"\",\"\",\"\",\"\",\"\",\"\",\"\",\"\",\"\",\"\",\"\",\"\",\"\",\"\",\"\",\"\",\"\",\"\",\"\",\"\",\"\",\"\",\"\",\"\",\"\",\"\",\"\",\"\",\"\",\"\",\"\",\"\",\"\",\"\",\"\",\"\",\"\",\"\",\"\"],\"values\":[892,32,100,93,134,22,84,159,105,59,33,176,62,223,270,35,137,33,54,51,26,53,35,61,829,68,51,2,42,101,46,268,3261,313,447,93,421,19,36,324,71,148,238,29,68,102,44,64,234,72,150,39,235,52,13,90,299,113,53,40,17,231,62,54,27,38,15,49,177,36,121,33,22,12,28,25,46,67,31,11,173,161,23,214,382,62,85,40,607,50,47,39,73,24,86,31,21,332,336,95,513,1089,60,115,94,161,76,28,9,62,72,26,448,206,24,99,160,111,195,568,24,84,56,18,20,266,37,1112,613,76,86,48,54,12,61,98,275,24,335,50,43,52,62,234,25,25,92,37,804,135,131,259,86,58,35,27,30,262,298,123,86,233,53,31,33,53,73,25,35,1928,52,19,27,260,20,1759,381,38,1179,172,232,32,17,216,86,238,22,21,356,55,14,66,25,719,36,1179,160,1112,1928,804,3261,1759,51,829,1089,313,719,613,29,448,607,232,421,298,268,324,892,260,25,270,332,266,513,336,86,234,262,173,159,234,26,447,382,135,9,568,356,299,76,233,231,216,95,68,98,52,177,223,214,102,238,150,84,161,275,56,238,172,58,99,39,30,121,335,48,61,62,100,86,123,64,19,71,137,113,86,176,93,259,53,44,54,40,31,25,66,35,35,62,84,86,27,101,25,32,36,24,21,38,23,32,40,61,148,131,62,52,28,62,53,35,93,2,53,134,37,68,59,50,46,27,67,39,24,235,54,115,18,55,52,36,54,85,90,20,73,33,21,92,17,53,161,24,50,42,20,25,94,60,31,49,38,46,381,33,73,195,37,27,111,72,33,51,15,13,33,17,26,11,22,19,62,25,36,206,22,31,47,28,35,12,12,105,72,14,86,22,43,24,76],\"type\":\"treemap\"}],                        {\"template\":{\"data\":{\"histogram2dcontour\":[{\"type\":\"histogram2dcontour\",\"colorbar\":{\"outlinewidth\":0,\"ticks\":\"\"},\"colorscale\":[[0.0,\"#0d0887\"],[0.1111111111111111,\"#46039f\"],[0.2222222222222222,\"#7201a8\"],[0.3333333333333333,\"#9c179e\"],[0.4444444444444444,\"#bd3786\"],[0.5555555555555556,\"#d8576b\"],[0.6666666666666666,\"#ed7953\"],[0.7777777777777778,\"#fb9f3a\"],[0.8888888888888888,\"#fdca26\"],[1.0,\"#f0f921\"]]}],\"choropleth\":[{\"type\":\"choropleth\",\"colorbar\":{\"outlinewidth\":0,\"ticks\":\"\"}}],\"histogram2d\":[{\"type\":\"histogram2d\",\"colorbar\":{\"outlinewidth\":0,\"ticks\":\"\"},\"colorscale\":[[0.0,\"#0d0887\"],[0.1111111111111111,\"#46039f\"],[0.2222222222222222,\"#7201a8\"],[0.3333333333333333,\"#9c179e\"],[0.4444444444444444,\"#bd3786\"],[0.5555555555555556,\"#d8576b\"],[0.6666666666666666,\"#ed7953\"],[0.7777777777777778,\"#fb9f3a\"],[0.8888888888888888,\"#fdca26\"],[1.0,\"#f0f921\"]]}],\"heatmap\":[{\"type\":\"heatmap\",\"colorbar\":{\"outlinewidth\":0,\"ticks\":\"\"},\"colorscale\":[[0.0,\"#0d0887\"],[0.1111111111111111,\"#46039f\"],[0.2222222222222222,\"#7201a8\"],[0.3333333333333333,\"#9c179e\"],[0.4444444444444444,\"#bd3786\"],[0.5555555555555556,\"#d8576b\"],[0.6666666666666666,\"#ed7953\"],[0.7777777777777778,\"#fb9f3a\"],[0.8888888888888888,\"#fdca26\"],[1.0,\"#f0f921\"]]}],\"heatmapgl\":[{\"type\":\"heatmapgl\",\"colorbar\":{\"outlinewidth\":0,\"ticks\":\"\"},\"colorscale\":[[0.0,\"#0d0887\"],[0.1111111111111111,\"#46039f\"],[0.2222222222222222,\"#7201a8\"],[0.3333333333333333,\"#9c179e\"],[0.4444444444444444,\"#bd3786\"],[0.5555555555555556,\"#d8576b\"],[0.6666666666666666,\"#ed7953\"],[0.7777777777777778,\"#fb9f3a\"],[0.8888888888888888,\"#fdca26\"],[1.0,\"#f0f921\"]]}],\"contourcarpet\":[{\"type\":\"contourcarpet\",\"colorbar\":{\"outlinewidth\":0,\"ticks\":\"\"}}],\"contour\":[{\"type\":\"contour\",\"colorbar\":{\"outlinewidth\":0,\"ticks\":\"\"},\"colorscale\":[[0.0,\"#0d0887\"],[0.1111111111111111,\"#46039f\"],[0.2222222222222222,\"#7201a8\"],[0.3333333333333333,\"#9c179e\"],[0.4444444444444444,\"#bd3786\"],[0.5555555555555556,\"#d8576b\"],[0.6666666666666666,\"#ed7953\"],[0.7777777777777778,\"#fb9f3a\"],[0.8888888888888888,\"#fdca26\"],[1.0,\"#f0f921\"]]}],\"surface\":[{\"type\":\"surface\",\"colorbar\":{\"outlinewidth\":0,\"ticks\":\"\"},\"colorscale\":[[0.0,\"#0d0887\"],[0.1111111111111111,\"#46039f\"],[0.2222222222222222,\"#7201a8\"],[0.3333333333333333,\"#9c179e\"],[0.4444444444444444,\"#bd3786\"],[0.5555555555555556,\"#d8576b\"],[0.6666666666666666,\"#ed7953\"],[0.7777777777777778,\"#fb9f3a\"],[0.8888888888888888,\"#fdca26\"],[1.0,\"#f0f921\"]]}],\"mesh3d\":[{\"type\":\"mesh3d\",\"colorbar\":{\"outlinewidth\":0,\"ticks\":\"\"}}],\"scatter\":[{\"fillpattern\":{\"fillmode\":\"overlay\",\"size\":10,\"solidity\":0.2},\"type\":\"scatter\"}],\"parcoords\":[{\"type\":\"parcoords\",\"line\":{\"colorbar\":{\"outlinewidth\":0,\"ticks\":\"\"}}}],\"scatterpolargl\":[{\"type\":\"scatterpolargl\",\"marker\":{\"colorbar\":{\"outlinewidth\":0,\"ticks\":\"\"}}}],\"bar\":[{\"error_x\":{\"color\":\"#2a3f5f\"},\"error_y\":{\"color\":\"#2a3f5f\"},\"marker\":{\"line\":{\"color\":\"#E5ECF6\",\"width\":0.5},\"pattern\":{\"fillmode\":\"overlay\",\"size\":10,\"solidity\":0.2}},\"type\":\"bar\"}],\"scattergeo\":[{\"type\":\"scattergeo\",\"marker\":{\"colorbar\":{\"outlinewidth\":0,\"ticks\":\"\"}}}],\"scatterpolar\":[{\"type\":\"scatterpolar\",\"marker\":{\"colorbar\":{\"outlinewidth\":0,\"ticks\":\"\"}}}],\"histogram\":[{\"marker\":{\"pattern\":{\"fillmode\":\"overlay\",\"size\":10,\"solidity\":0.2}},\"type\":\"histogram\"}],\"scattergl\":[{\"type\":\"scattergl\",\"marker\":{\"colorbar\":{\"outlinewidth\":0,\"ticks\":\"\"}}}],\"scatter3d\":[{\"type\":\"scatter3d\",\"line\":{\"colorbar\":{\"outlinewidth\":0,\"ticks\":\"\"}},\"marker\":{\"colorbar\":{\"outlinewidth\":0,\"ticks\":\"\"}}}],\"scattermapbox\":[{\"type\":\"scattermapbox\",\"marker\":{\"colorbar\":{\"outlinewidth\":0,\"ticks\":\"\"}}}],\"scatterternary\":[{\"type\":\"scatterternary\",\"marker\":{\"colorbar\":{\"outlinewidth\":0,\"ticks\":\"\"}}}],\"scattercarpet\":[{\"type\":\"scattercarpet\",\"marker\":{\"colorbar\":{\"outlinewidth\":0,\"ticks\":\"\"}}}],\"carpet\":[{\"aaxis\":{\"endlinecolor\":\"#2a3f5f\",\"gridcolor\":\"white\",\"linecolor\":\"white\",\"minorgridcolor\":\"white\",\"startlinecolor\":\"#2a3f5f\"},\"baxis\":{\"endlinecolor\":\"#2a3f5f\",\"gridcolor\":\"white\",\"linecolor\":\"white\",\"minorgridcolor\":\"white\",\"startlinecolor\":\"#2a3f5f\"},\"type\":\"carpet\"}],\"table\":[{\"cells\":{\"fill\":{\"color\":\"#EBF0F8\"},\"line\":{\"color\":\"white\"}},\"header\":{\"fill\":{\"color\":\"#C8D4E3\"},\"line\":{\"color\":\"white\"}},\"type\":\"table\"}],\"barpolar\":[{\"marker\":{\"line\":{\"color\":\"#E5ECF6\",\"width\":0.5},\"pattern\":{\"fillmode\":\"overlay\",\"size\":10,\"solidity\":0.2}},\"type\":\"barpolar\"}],\"pie\":[{\"automargin\":true,\"type\":\"pie\"}]},\"layout\":{\"autotypenumbers\":\"strict\",\"colorway\":[\"#636efa\",\"#EF553B\",\"#00cc96\",\"#ab63fa\",\"#FFA15A\",\"#19d3f3\",\"#FF6692\",\"#B6E880\",\"#FF97FF\",\"#FECB52\"],\"font\":{\"color\":\"#2a3f5f\"},\"hovermode\":\"closest\",\"hoverlabel\":{\"align\":\"left\"},\"paper_bgcolor\":\"white\",\"plot_bgcolor\":\"#E5ECF6\",\"polar\":{\"bgcolor\":\"#E5ECF6\",\"angularaxis\":{\"gridcolor\":\"white\",\"linecolor\":\"white\",\"ticks\":\"\"},\"radialaxis\":{\"gridcolor\":\"white\",\"linecolor\":\"white\",\"ticks\":\"\"}},\"ternary\":{\"bgcolor\":\"#E5ECF6\",\"aaxis\":{\"gridcolor\":\"white\",\"linecolor\":\"white\",\"ticks\":\"\"},\"baxis\":{\"gridcolor\":\"white\",\"linecolor\":\"white\",\"ticks\":\"\"},\"caxis\":{\"gridcolor\":\"white\",\"linecolor\":\"white\",\"ticks\":\"\"}},\"coloraxis\":{\"colorbar\":{\"outlinewidth\":0,\"ticks\":\"\"}},\"colorscale\":{\"sequential\":[[0.0,\"#0d0887\"],[0.1111111111111111,\"#46039f\"],[0.2222222222222222,\"#7201a8\"],[0.3333333333333333,\"#9c179e\"],[0.4444444444444444,\"#bd3786\"],[0.5555555555555556,\"#d8576b\"],[0.6666666666666666,\"#ed7953\"],[0.7777777777777778,\"#fb9f3a\"],[0.8888888888888888,\"#fdca26\"],[1.0,\"#f0f921\"]],\"sequentialminus\":[[0.0,\"#0d0887\"],[0.1111111111111111,\"#46039f\"],[0.2222222222222222,\"#7201a8\"],[0.3333333333333333,\"#9c179e\"],[0.4444444444444444,\"#bd3786\"],[0.5555555555555556,\"#d8576b\"],[0.6666666666666666,\"#ed7953\"],[0.7777777777777778,\"#fb9f3a\"],[0.8888888888888888,\"#fdca26\"],[1.0,\"#f0f921\"]],\"diverging\":[[0,\"#8e0152\"],[0.1,\"#c51b7d\"],[0.2,\"#de77ae\"],[0.3,\"#f1b6da\"],[0.4,\"#fde0ef\"],[0.5,\"#f7f7f7\"],[0.6,\"#e6f5d0\"],[0.7,\"#b8e186\"],[0.8,\"#7fbc41\"],[0.9,\"#4d9221\"],[1,\"#276419\"]]},\"xaxis\":{\"gridcolor\":\"white\",\"linecolor\":\"white\",\"ticks\":\"\",\"title\":{\"standoff\":15},\"zerolinecolor\":\"white\",\"automargin\":true,\"zerolinewidth\":2},\"yaxis\":{\"gridcolor\":\"white\",\"linecolor\":\"white\",\"ticks\":\"\",\"title\":{\"standoff\":15},\"zerolinecolor\":\"white\",\"automargin\":true,\"zerolinewidth\":2},\"scene\":{\"xaxis\":{\"backgroundcolor\":\"#E5ECF6\",\"gridcolor\":\"white\",\"linecolor\":\"white\",\"showbackground\":true,\"ticks\":\"\",\"zerolinecolor\":\"white\",\"gridwidth\":2},\"yaxis\":{\"backgroundcolor\":\"#E5ECF6\",\"gridcolor\":\"white\",\"linecolor\":\"white\",\"showbackground\":true,\"ticks\":\"\",\"zerolinecolor\":\"white\",\"gridwidth\":2},\"zaxis\":{\"backgroundcolor\":\"#E5ECF6\",\"gridcolor\":\"white\",\"linecolor\":\"white\",\"showbackground\":true,\"ticks\":\"\",\"zerolinecolor\":\"white\",\"gridwidth\":2}},\"shapedefaults\":{\"line\":{\"color\":\"#2a3f5f\"}},\"annotationdefaults\":{\"arrowcolor\":\"#2a3f5f\",\"arrowhead\":0,\"arrowwidth\":1},\"geo\":{\"bgcolor\":\"white\",\"landcolor\":\"#E5ECF6\",\"subunitcolor\":\"white\",\"showland\":true,\"showlakes\":true,\"lakecolor\":\"white\"},\"title\":{\"x\":0.05},\"mapbox\":{\"style\":\"light\"}}},\"legend\":{\"tracegroupgap\":0},\"margin\":{\"t\":60}},                        {\"responsive\": true}                    )                };                            </script>        </div>"
      ],
      "text/plain": [
       "Figure({\n",
       "    'data': [{'branchvalues': 'total',\n",
       "              'domain': {'x': [0.0, 1.0], 'y': [0.0, 1.0]},\n",
       "              'hovertemplate': 'labels=%{label}<br>count=%{value}<br>parent=%{parent}<br>id=%{id}<extra></extra>',\n",
       "              'ids': array(['21/aeg', '99/akai', '72/alcatel', ..., '197', '198', '199'],\n",
       "                           dtype=object),\n",
       "              'labels': array(['aeg', 'akai', 'alcatel', ..., '197', '198', '199'], dtype=object),\n",
       "              'name': '',\n",
       "              'parents': array(['21', '99', '72', ..., '', '', ''], dtype=object),\n",
       "              'type': 'treemap',\n",
       "              'values': array([892,  32, 100, ...,  43,  24,  76], dtype=int64)}],\n",
       "    'layout': {'legend': {'tracegroupgap': 0}, 'margin': {'t': 60}, 'template': '...'}\n",
       "})"
      ]
     },
     "execution_count": 29,
     "metadata": {},
     "output_type": "execute_result"
    }
   ],
   "source": [
    "#Visualise sizes of supermarket categories (manually added to result_labelled) and clean clusters\n",
    "result_summary = pd.pivot_table(result_labelled,index=['label','cluster'],values=['ClusterLabel'],aggfunc='count').reset_index().rename(columns={'ClusterLabel':'count'})\n",
    "result_treemap = result_summary[(result_summary['label'] != '') & (result_summary['count'] > 1)]\n",
    "fig = px.treemap(result_treemap,path=['cluster','label'],values='count')\n",
    "fig"
   ]
  }
 ],
 "metadata": {
  "kernelspec": {
   "display_name": "Python 3",
   "language": "python",
   "name": "python3"
  },
  "language_info": {
   "codemirror_mode": {
    "name": "ipython",
    "version": 3
   },
   "file_extension": ".py",
   "mimetype": "text/x-python",
   "name": "python",
   "nbconvert_exporter": "python",
   "pygments_lexer": "ipython3",
   "version": "3.10.10"
  },
  "orig_nbformat": 4
 },
 "nbformat": 4,
 "nbformat_minor": 2
}
